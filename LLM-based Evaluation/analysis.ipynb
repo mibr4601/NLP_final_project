{
 "cells": [
  {
   "cell_type": "code",
   "execution_count": 210,
   "metadata": {},
   "outputs": [
    {
     "name": "stdout",
     "output_type": "stream",
     "text": [
      "Requirement already satisfied: together in c:\\users\\miles\\anaconda3\\lib\\site-packages (1.4.1)\n",
      "Requirement already satisfied: aiohttp<4.0.0,>=3.9.3 in c:\\users\\miles\\anaconda3\\lib\\site-packages (from together) (3.10.5)\n",
      "Requirement already satisfied: click<9.0.0,>=8.1.7 in c:\\users\\miles\\anaconda3\\lib\\site-packages (from together) (8.1.7)\n",
      "Requirement already satisfied: eval-type-backport<0.3.0,>=0.1.3 in c:\\users\\miles\\anaconda3\\lib\\site-packages (from together) (0.2.2)\n",
      "Requirement already satisfied: filelock<4.0.0,>=3.13.1 in c:\\users\\miles\\anaconda3\\lib\\site-packages (from together) (3.13.1)\n",
      "Requirement already satisfied: numpy>=1.26.0 in c:\\users\\miles\\anaconda3\\lib\\site-packages (from together) (1.26.4)\n",
      "Requirement already satisfied: pillow<12.0.0,>=11.1.0 in c:\\users\\miles\\anaconda3\\lib\\site-packages (from together) (11.1.0)\n",
      "Requirement already satisfied: pyarrow>=10.0.1 in c:\\users\\miles\\anaconda3\\lib\\site-packages (from together) (16.1.0)\n",
      "Requirement already satisfied: pydantic<3.0.0,>=2.6.3 in c:\\users\\miles\\anaconda3\\lib\\site-packages (from together) (2.8.2)\n",
      "Requirement already satisfied: requests<3.0.0,>=2.31.0 in c:\\users\\miles\\anaconda3\\lib\\site-packages (from together) (2.32.3)\n",
      "Requirement already satisfied: rich<14.0.0,>=13.8.1 in c:\\users\\miles\\anaconda3\\lib\\site-packages (from together) (13.9.4)\n",
      "Requirement already satisfied: tabulate<0.10.0,>=0.9.0 in c:\\users\\miles\\anaconda3\\lib\\site-packages (from together) (0.9.0)\n",
      "Requirement already satisfied: tqdm<5.0.0,>=4.66.2 in c:\\users\\miles\\anaconda3\\lib\\site-packages (from together) (4.66.5)\n",
      "Requirement already satisfied: typer<0.16,>=0.9 in c:\\users\\miles\\anaconda3\\lib\\site-packages (from together) (0.15.1)\n",
      "Requirement already satisfied: aiohappyeyeballs>=2.3.0 in c:\\users\\miles\\anaconda3\\lib\\site-packages (from aiohttp<4.0.0,>=3.9.3->together) (2.4.0)\n",
      "Requirement already satisfied: aiosignal>=1.1.2 in c:\\users\\miles\\anaconda3\\lib\\site-packages (from aiohttp<4.0.0,>=3.9.3->together) (1.2.0)\n",
      "Requirement already satisfied: attrs>=17.3.0 in c:\\users\\miles\\anaconda3\\lib\\site-packages (from aiohttp<4.0.0,>=3.9.3->together) (23.1.0)\n",
      "Requirement already satisfied: frozenlist>=1.1.1 in c:\\users\\miles\\anaconda3\\lib\\site-packages (from aiohttp<4.0.0,>=3.9.3->together) (1.4.0)\n",
      "Requirement already satisfied: multidict<7.0,>=4.5 in c:\\users\\miles\\anaconda3\\lib\\site-packages (from aiohttp<4.0.0,>=3.9.3->together) (6.0.4)\n",
      "Requirement already satisfied: yarl<2.0,>=1.0 in c:\\users\\miles\\anaconda3\\lib\\site-packages (from aiohttp<4.0.0,>=3.9.3->together) (1.11.0)\n",
      "Requirement already satisfied: colorama in c:\\users\\miles\\anaconda3\\lib\\site-packages (from click<9.0.0,>=8.1.7->together) (0.4.6)\n",
      "Requirement already satisfied: annotated-types>=0.4.0 in c:\\users\\miles\\anaconda3\\lib\\site-packages (from pydantic<3.0.0,>=2.6.3->together) (0.6.0)\n",
      "Requirement already satisfied: pydantic-core==2.20.1 in c:\\users\\miles\\anaconda3\\lib\\site-packages (from pydantic<3.0.0,>=2.6.3->together) (2.20.1)\n",
      "Requirement already satisfied: typing-extensions>=4.6.1 in c:\\users\\miles\\anaconda3\\lib\\site-packages (from pydantic<3.0.0,>=2.6.3->together) (4.11.0)\n",
      "Requirement already satisfied: charset-normalizer<4,>=2 in c:\\users\\miles\\anaconda3\\lib\\site-packages (from requests<3.0.0,>=2.31.0->together) (3.3.2)\n",
      "Requirement already satisfied: idna<4,>=2.5 in c:\\users\\miles\\anaconda3\\lib\\site-packages (from requests<3.0.0,>=2.31.0->together) (3.7)\n",
      "Requirement already satisfied: urllib3<3,>=1.21.1 in c:\\users\\miles\\anaconda3\\lib\\site-packages (from requests<3.0.0,>=2.31.0->together) (2.2.3)\n",
      "Requirement already satisfied: certifi>=2017.4.17 in c:\\users\\miles\\anaconda3\\lib\\site-packages (from requests<3.0.0,>=2.31.0->together) (2024.12.14)\n",
      "Requirement already satisfied: markdown-it-py>=2.2.0 in c:\\users\\miles\\anaconda3\\lib\\site-packages (from rich<14.0.0,>=13.8.1->together) (2.2.0)\n",
      "Requirement already satisfied: pygments<3.0.0,>=2.13.0 in c:\\users\\miles\\anaconda3\\lib\\site-packages (from rich<14.0.0,>=13.8.1->together) (2.15.1)\n",
      "Requirement already satisfied: shellingham>=1.3.0 in c:\\users\\miles\\anaconda3\\lib\\site-packages (from typer<0.16,>=0.9->together) (1.5.4)\n",
      "Requirement already satisfied: mdurl~=0.1 in c:\\users\\miles\\anaconda3\\lib\\site-packages (from markdown-it-py>=2.2.0->rich<14.0.0,>=13.8.1->together) (0.1.0)\n"
     ]
    }
   ],
   "source": [
    "!pip install together\n",
    "import os\n",
    "os.environ[\"KMP_DUPLICATE_LIB_OK\"] = \"TRUE\"\n",
    "os.environ[\"TOGETHER_API_KEY\"] = \"f92beca4df59af2b0bd5f0c8fd60c5e3690f01e008fd834fd2e471310862167b\"\n",
    "\n",
    "import pandas as pd\n",
    "from datasets import load_dataset\n",
    "import re\n",
    "import numpy as np\n",
    "import torch\n",
    "import matplotlib.pyplot as plt\n",
    "\n"
   ]
  },
  {
   "cell_type": "code",
   "execution_count": 211,
   "metadata": {},
   "outputs": [
    {
     "name": "stdout",
     "output_type": "stream",
     "text": [
      "   Text Source                                       q0_reasoning q0_yes_no  \\\n",
      "0     0  human  The story effectively compresses a thousand ye...       yes   \n",
      "1     1  llama  The story effectively compresses time during t...       yes   \n",
      "2     2  human  The story effectively uses time compression du...       yes   \n",
      "3     3  llama  The story effectively compresses time to build...       yes   \n",
      "4     4  human  The story effectively compresses time to focus...       yes   \n",
      "\n",
      "                                        q1_reasoning q1_yes_no  \\\n",
      "0  The story balances detailed scenes, such as th...       yes   \n",
      "1  The story skillfully alternates between detail...       yes   \n",
      "2  The story skillfully balances detailed scenes,...       yes   \n",
      "3  The story skillfully balances detailed scenes,...       yes   \n",
      "4  The story primarily relies on scenes to convey...       yes   \n",
      "\n",
      "                                        q2_reasoning q2_yes_no  \\\n",
      "0  The story uses metaphors like the \"cold, burni...       yes   \n",
      "1  The story uses metaphors like \"the card... see...       yes   \n",
      "2  The story employs metaphors, such as comparing...       yes   \n",
      "3  The story employs rich metaphors, such as the ...       yes   \n",
      "4  The story does not heavily rely on idioms, met...        no   \n",
      "\n",
      "                                        q3_reasoning q3_yes_no  ...  \\\n",
      "0  The ending, where the protagonist agrees to jo...       yes  ...   \n",
      "1  The conclusion, where the protagonist decides ...       yes  ...   \n",
      "2  The ending, with the sudden appearance of the ...       yes  ...   \n",
      "3  The conclusion, with the creature's revelation...       yes  ...   \n",
      "4  The ending feels natural as it ties together t...       yes  ...   \n",
      "\n",
      "                                       q23_reasoning q23_yes_no  \\\n",
      "0  The story blends a modern setting with a mythi...        yes   \n",
      "1  The narrative structure is relatively conventi...         no   \n",
      "2  The story’s structure and pacing are fairly co...         no   \n",
      "3  The narrative follows a linear structure but i...        yes   \n",
      "4  The story’s structure, which blends dialogue a...        yes   \n",
      "\n",
      "                                       q24_reasoning q24_yes_no  \\\n",
      "0  The story uses non-linear storytelling, includ...        yes   \n",
      "1  The story follows a standard narrative structu...         no   \n",
      "2  The narrative follows a traditional structure,...         no   \n",
      "3  The story adheres to a conventional narrative ...        yes   \n",
      "4  The story unfolds through a series of disjoint...        yes   \n",
      "\n",
      "                                       q25_reasoning q25_yes_no  \\\n",
      "0  The protagonist’s journey from rejecting Death...        yes   \n",
      "1  The protagonist’s motivation to accept the job...         no   \n",
      "2  Sadie’s curiosity and her father’s playful int...         no   \n",
      "3  The story focuses more on the event of the moo...         no   \n",
      "4  Joanne and the protagonist’s motivations, tied...        yes   \n",
      "\n",
      "                                       q26_reasoning q26_yes_no  \\\n",
      "0  The story explores the idea of immortals being...        yes   \n",
      "1  The idea that immortality might be undesirable...        yes   \n",
      "2  The story’s exploration of a hidden, ancient c...        yes   \n",
      "3  The idea of the moon hatching into a celestial...        yes   \n",
      "4  The story delves into the nature of reality, d...        yes   \n",
      "\n",
      "                                       q27_reasoning q27_yes_no  \n",
      "0  The twist of Death recruiting immortals to con...        yes  \n",
      "1  The twist of immortality being a burden and th...        yes  \n",
      "2  The sudden appearance of the creature and the ...        yes  \n",
      "3  The concept of the moon as an egg and its hatc...        yes  \n",
      "4  The revelation that the characters’ experience...        yes  \n",
      "\n",
      "[5 rows x 58 columns]\n",
      "150\n"
     ]
    }
   ],
   "source": [
    "#df = pd.read_csv(\"results_prompt_2.csv\")\n",
    "#df = pd.read_csv(\"comparison_output.csv\")\n",
    "df = pd.read_csv(\"results2.csv\")\n",
    "print(df.head())\n",
    "print(len(df))\n"
   ]
  },
  {
   "cell_type": "code",
   "execution_count": 212,
   "metadata": {},
   "outputs": [],
   "source": [
    "#Counts the number of yeses in each row\n",
    "df['num_of_yes'] = 0\n",
    "for i in range(0, 27):\n",
    "    column_name = f'q{i}_yes_no'\n",
    "    #If any df[column_name] value is None, delete the row\n",
    "    #This is only the case if the LLM did not follow instruction\n",
    "    if df[column_name].isnull().values.any():\n",
    "        df = df.drop(df[df[column_name].isnull()].index)\n",
    "    df['num_of_yes'] += df[column_name].apply(lambda x: 1 if x == 'yes' else 0)\n",
    "df['score'] = df['num_of_yes'] / 28\n",
    "\n",
    "#Save the df out\n",
    "#df.to_csv(\"comparison_output2.csv\", index=False)\n"
   ]
  },
  {
   "cell_type": "code",
   "execution_count": 213,
   "metadata": {},
   "outputs": [
    {
     "name": "stdout",
     "output_type": "stream",
     "text": [
      "Average with reasoning. Humans first, AI second\n",
      "17.8\n",
      "16.0\n",
      "Average without reasoning\n",
      "21.215384615384615\n",
      "19.265625\n",
      "Average across all stories\n",
      "20.76\n",
      "18.824324324324323\n",
      "\n"
     ]
    }
   ],
   "source": [
    "print(\"Average with reasoning. Humans first, AI second\")\n",
    "print(df['num_of_yes'][0:20:2].mean())\n",
    "print(df['num_of_yes'][1:20:2].mean())\n",
    "\n",
    "print(\"Average without reasoning\")\n",
    "print(df['num_of_yes'][20::2].mean())\n",
    "print(df['num_of_yes'][21::2].mean())\n",
    "\n",
    "\n",
    "print(\"Average across all stories\")\n",
    "print(df['num_of_yes'][::2].mean())\n",
    "print(df['num_of_yes'][1::2].mean())\n",
    "\n",
    "print()"
   ]
  },
  {
   "cell_type": "code",
   "execution_count": 214,
   "metadata": {},
   "outputs": [
    {
     "data": {
      "image/png": "[encoded data removed]",
      "text/plain": [
       "<Figure size 1200x600 with 1 Axes>"
      ]
     },
     "metadata": {},
     "output_type": "display_data"
    }
   ],
   "source": [
    "\n",
    "# Getting each question's columns\n",
    "q_columns = [col for col in df.columns if col.startswith('q') and col.endswith('_yes_no')]\n",
    "\n",
    "# Rename columns to display just the question numbers\n",
    "renamed_columns = {col: col.split('_')[0] for col in q_columns}\n",
    "df_renamed = df.rename(columns=renamed_columns)\n",
    "\n",
    "# Separate AI and human responses into two groups\n",
    "ai_responses = df_renamed.iloc[1::2][list(renamed_columns.values())]  # Odd rows\n",
    "human_responses = df_renamed.iloc[0::2][list(renamed_columns.values())]  # Even rows\n",
    "\n",
    "# Count the number of \"yes\" responses for each question\n",
    "ai_yes_counts = ai_responses.apply(lambda x: (x == 'yes').sum())\n",
    "human_yes_counts = human_responses.apply(lambda x: (x == 'yes').sum())\n",
    "\n",
    "# Create a histogram\n",
    "fig, ax = plt.subplots(figsize=(12, 6))\n",
    "\n",
    "# Plot AI responses\n",
    "ax.bar(ai_yes_counts.index, ai_yes_counts.values, width=0.4, label='AI', align='center')\n",
    "# Plot human responses\n",
    "ax.bar(human_yes_counts.index, human_yes_counts.values, width=0.4, label='Human', align='edge')\n",
    "\n",
    "# Add labels for different sections\n",
    "section_labels = ['Fluency', 'Flexibility', 'Elaboration', 'Originality']\n",
    "section_positions = [3, 10, 17, 24]  # Midpoints of the sections\n",
    "section_boundaries = [0, 7, 14, 21, 28]  # Boundaries of the sections\n",
    "\n",
    "for label, pos in zip(section_labels, section_positions):\n",
    "    ax.text(pos, -10, label, ha='center', va='top', fontsize=12, color='black', fontweight='bold')\n",
    "\n",
    "# Add vertical lines to demarcate sections\n",
    "for boundary in section_boundaries:\n",
    "    ax.axvline(x=boundary - 0.5, color='gray', linestyle='--', linewidth=1)\n",
    "\n",
    "ax.set_xlabel('Question Number')\n",
    "ax.set_ylabel('Number of Yes Responses')\n",
    "ax.set_title('Yes/No Distribution for AI vs Human')\n",
    "ax.legend()\n",
    "\n",
    "plt.xticks(rotation=45)\n",
    "\n",
    "plt.tight_layout()\n",
    "plt.show()"
   ]
  },
  {
   "cell_type": "code",
   "execution_count": 215,
   "metadata": {},
   "outputs": [
    {
     "name": "stdout",
     "output_type": "stream",
     "text": [
      "0    0.285714\n",
      "1    0.178571\n",
      "2    0.250000\n",
      "3    0.214286\n",
      "4    0.142857\n",
      "Name: score, dtype: float64\n",
      "0    0.482143\n",
      "1    0.234234\n",
      "2    0.482456\n",
      "3    0.267717\n",
      "4    0.396396\n",
      "Name: Creativity Score, dtype: float64\n",
      "0.2002304945996325\n"
     ]
    }
   ],
   "source": [
    "# load in the dataset\n",
    "df_llm = pd.read_csv(\"comparison_output2.csv\")\n",
    "df_dj = pd.read_csv(\"comparison_output_dj.csv\")\n",
    "\n",
    "print(df_llm['score'].head())\n",
    "print(df_dj['Creativity Score'].head())\n",
    "correlation = df_llm['score'].corr(df_dj['Creativity Score'])\n",
    "print(correlation)\n"
   ]
  }
 ],
 "metadata": {
  "kernelspec": {
   "display_name": "base",
   "language": "python",
   "name": "python3"
  },
  "language_info": {
   "codemirror_mode": {
    "name": "ipython",
    "version": 3
   },
   "file_extension": ".py",
   "mimetype": "text/x-python",
   "name": "python",
   "nbconvert_exporter": "python",
   "pygments_lexer": "ipython3",
   "version": "3.12.7"
  }
 },
 "nbformat": 4,
 "nbformat_minor": 2
}
